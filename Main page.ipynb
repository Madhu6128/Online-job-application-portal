{
 "cells": [
  {
   "cell_type": "code",
   "execution_count": null,
   "metadata": {},
   "outputs": [
    {
     "name": "stdout",
     "output_type": "stream",
     "text": [
      "importing Jupyter notebook from jobregistration.ipynb\n"
     ]
    }
   ],
   "source": [
    "from tkinter import*\n",
    "from PIL import ImageTk\n",
    "import import_ipynb\n",
    "class Main:\n",
    "    def __init__(self,root):\n",
    "        self.root=root\n",
    "        self.root.title(\"Main Page\")\n",
    "        self.root.geometry(\"1350x700+0+0\")\n",
    "        self.root.config(bg=\"#fafafa\")\n",
    "          \n",
    "        self.bg=ImageTk.PhotoImage(file=\"10579.jpg\")\n",
    "        self.lbl_bg=Label(self.root,image=self.bg).place(x=0,y=0,relwidth=1,relheight=1)\n",
    "        \n",
    "        login_frame=Frame(self.root,bd=2,relief=RIDGE,bg=\"white\")\n",
    "        login_frame.place(x=530,y=140,width=350,height=440)\n",
    "        \n",
    "        title=Label(text=\"ONLINE JOB APPLICATION PORTAL\",font=(\"lucida handwriting\",25,\"bold\")).place(x=0,y=30,relwidth=1)\n",
    "        \n",
    "        btn_login=Button(login_frame,text=\"Log In\",command=self.Login,font=(\"Elephant\",13),bg=\"sky blue\",activebackground=\"sky blue\",fg=\"white\",activeforeground=\"white\",cursor=\"hand2\").place(x=45,y=50,width=250,height=45)\n",
    "        \n",
    "        btn_login=Button(login_frame,text=\"Register for Job\",command=self.job_registration,font=(\"Elephant\",13),bg=\"sky blue\",activebackground=\"sky blue\",fg=\"white\",activeforeground=\"white\",cursor=\"hand2\").place(x=45,y=180,width=250,height=45)\n",
    "  \n",
    "        btn_login=Button(login_frame,text=\"Available jobs\",command=self.availble_jobs,font=(\"Elephant\",13),bg=\"sky blue\",activebackground=\"sky blue\",fg=\"white\",activeforeground=\"white\",cursor=\"hand2\").place(x=45,y=310,width=250,height=45)\n",
    "    \n",
    "    def job_registration(self):\n",
    "        self.root.destroy()\n",
    "        import jobregistration\n",
    "        \n",
    "    def availble_jobs(self):\n",
    "        self.root.destroy()\n",
    "        import availablejobs\n",
    "    \n",
    "    \n",
    "    def Login(self):\n",
    "        self.root.destroy()\n",
    "        import Loginwindow\n",
    " \n",
    "        \n",
    "root=Tk()\n",
    "obj=Main(root)\n",
    "root.mainloop()"
   ]
  },
  {
   "cell_type": "code",
   "execution_count": null,
   "metadata": {},
   "outputs": [],
   "source": []
  },
  {
   "cell_type": "code",
   "execution_count": null,
   "metadata": {},
   "outputs": [],
   "source": []
  }
 ],
 "metadata": {
  "kernelspec": {
   "display_name": "Python 3",
   "language": "python",
   "name": "python3"
  },
  "language_info": {
   "codemirror_mode": {
    "name": "ipython",
    "version": 3
   },
   "file_extension": ".py",
   "mimetype": "text/x-python",
   "name": "python",
   "nbconvert_exporter": "python",
   "pygments_lexer": "ipython3",
   "version": "3.8.3"
  }
 },
 "nbformat": 4,
 "nbformat_minor": 4
}
