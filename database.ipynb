{
 "cells": [
  {
   "cell_type": "code",
   "execution_count": 1,
   "metadata": {},
   "outputs": [],
   "source": [
    "import mysql.connector\n",
    "mydb=mysql.connector.connect(\n",
    "              host=\"localhost\",\n",
    "              user=\"root\",\n",
    "              passwd=\"Madhu12@\")\n",
    "\n",
    "mycursor=mydb.cursor()\n",
    "mycursor.execute(\"CREATE DATABASE jobportal\")"
   ]
  },
  {
   "cell_type": "code",
   "execution_count": 1,
   "metadata": {},
   "outputs": [],
   "source": [
    "import mysql.connector\n",
    "mydb = mysql.connector.connect(\n",
    "              host=\"localhost\",\n",
    "              user=\"root\",\n",
    "              passwd=\"Madhu12@\",\n",
    "             database='jobportal')\n",
    "mycursor = mydb.cursor()\n",
    "mycursor.execute(\"create table register (f_name varchar(50),l_name varchar(50),contact varchar(10),email varchar(50),question varchar(100),answer varchar(100),password varchar(100),cpassword varchar(100))\")"
   ]
  },
  {
   "cell_type": "code",
   "execution_count": 1,
   "metadata": {},
   "outputs": [],
   "source": [
    "import mysql.connector\n",
    "mydb = mysql.connector.connect(\n",
    "              host=\"localhost\",\n",
    "              user=\"root\",\n",
    "              passwd=\"Madhu12@\",\n",
    "             database='jobportal')\n",
    "mycursor = mydb.cursor()\n",
    "mycursor.execute(\"create table jobregister (Name varchar(50),Email varchar(50),Gender varchar(10),Contact varchar(50),Date varchar(100),Address varchar(100),Job varchar(100),Qualification varchar(100))\")"
   ]
  },
  {
   "cell_type": "code",
   "execution_count": 3,
   "metadata": {},
   "outputs": [],
   "source": [
    "import mysql.connector\n",
    "mydb = mysql.connector.connect(\n",
    "              host=\"localhost\",\n",
    "              user=\"root\",\n",
    "              passwd=\"Madhu12@\",\n",
    "             database='jobportal')\n",
    "mycursor = mydb.cursor()\n",
    "mycursor.execute(\"create table jobregister1 (Job varchar(50),Company varchar(50),Salary varchar(50),Qualification varchar(100),Department varchar(100))\")"
   ]
  },
  {
   "cell_type": "code",
   "execution_count": null,
   "metadata": {},
   "outputs": [],
   "source": []
  }
 ],
 "metadata": {
  "kernelspec": {
   "display_name": "Python 3",
   "language": "python",
   "name": "python3"
  },
  "language_info": {
   "codemirror_mode": {
    "name": "ipython",
    "version": 3
   },
   "file_extension": ".py",
   "mimetype": "text/x-python",
   "name": "python",
   "nbconvert_exporter": "python",
   "pygments_lexer": "ipython3",
   "version": "3.8.3"
  }
 },
 "nbformat": 4,
 "nbformat_minor": 4
}
